{
 "cells": [
  {
   "cell_type": "code",
   "execution_count": 1,
   "metadata": {
    "collapsed": false
   },
   "outputs": [],
   "source": [
    "#%matplotlib inline\n",
    "from __future__ import print_function\n",
    "import numpy as np\n",
    "from matplotlib import pyplot as plt\n",
    "import sklearn.linear_model as sklin\n",
    "import sklearn.metrics as skmet\n",
    "import sklearn.cross_validation as skcv\n",
    "import sklearn.grid_search as skgs\n",
    "import sklearn.kernel_ridge as kr\n",
    "import sklearn.svm as svm\n",
    "import sklearn.preprocessing as pre\n",
    "from sklearn.preprocessing import FunctionTransformer\n",
    "import pandas as pd"
   ]
  },
  {
   "cell_type": "code",
   "execution_count": 95,
   "metadata": {
    "collapsed": false,
    "scrolled": true
   },
   "outputs": [
    {
     "name": "stdout",
     "output_type": "stream",
     "text": [
      "(1000, 15) (1000,)\n"
     ]
    }
   ],
   "source": [
    "#import our train data\n",
    "my_data = np.genfromtxt('train.csv', delimiter=',')\n",
    "my_data = my_data[1:,1:] #delete first row and column\n",
    "Y = my_data[:,0]\n",
    "X = my_data[:,1:]\n",
    "#print(Y)\n",
    "print(X.shape,Y.shape)"
   ]
  },
  {
   "cell_type": "code",
   "execution_count": 96,
   "metadata": {
    "collapsed": false
   },
   "outputs": [
    {
     "name": "stdout",
     "output_type": "stream",
     "text": [
      "(3000, 15)\n"
     ]
    }
   ],
   "source": [
    "#import our test data and delete the names\n",
    "my_test_data = np.genfromtxt('test.csv', delimiter=',')\n",
    "my_test_data = my_test_data[1:,1:]\n",
    "Xtest = my_test_data\n",
    "#print(Xtest)\n",
    "print(Xtest.shape)"
   ]
  },
  {
   "cell_type": "code",
   "execution_count": 22,
   "metadata": {
    "collapsed": true
   },
   "outputs": [],
   "source": [
    "#---Preprocessing--\n",
    "poly=pre.PolynomialFeatures(degree=3)\n",
    "X=poly.fit_transform(X)\n",
    "Xtest=poly.fit_transform(Xtest)"
   ]
  },
  {
   "cell_type": "code",
   "execution_count": 97,
   "metadata": {
    "collapsed": true
   },
   "outputs": [],
   "source": [
    "#our score function: error between predicted and given value\n",
    "def score(gtruth, pred):\n",
    "    diff = gtruth - pred\n",
    "    return np.sqrt(np.mean(np.square(diff)))"
   ]
  },
  {
   "cell_type": "code",
   "execution_count": 105,
   "metadata": {
    "collapsed": false
   },
   "outputs": [
    {
     "name": "stdout",
     "output_type": "stream",
     "text": [
      "(1000, 15) (1000,)\n",
      "\n",
      " SVC(C=1.1299999999999999, cache_size=200, class_weight=None, coef0=0.0,\n",
      "  decision_function_shape=None, degree=3, gamma=0.002, kernel='rbf',\n",
      "  max_iter=-1, probability=False, random_state=None, shrinking=True,\n",
      "  tol=0.001, verbose=False)\n",
      "\n",
      "i = 10\n",
      "Best Score:  0.316142790852\n"
     ]
    }
   ],
   "source": [
    "i=10\n",
    "param_grid = {'alpha': np.linspace(2^-3, 2^3, 20)}\n",
    "\n",
    "neg_scorefun = skmet.make_scorer(lambda x, y: -score(x,y))\n",
    "#def f (x,y): return -score(x,y)\n",
    "#neg_scorefun = skmet.make_scorer(f)\n",
    "\n",
    "\n",
    "#-----------------------------------------------------------------------------------------\n",
    "#Linear Ridge Regression\n",
    "#grid_search = skgs.GridSearchCV(sklin.Ridge(), param_grid, scoring=neg_scorefun, cv=i)\n",
    "\n",
    "#Kernelfunctions: 'linear', 'rbf' (gaussian), 'poly'\n",
    "\n",
    "#Kernel Ridge\n",
    "#grid_search = skgs.GridSearchCV(kr.KernelRidge(kernel='poly', gamma=0.1, degree=3), param_grid, scoring=neg_scorefun, cv=i, error_score=0)\n",
    "\n",
    "#Support Vector Machines\n",
    "#param_grid_SVM={\"C\": [1e0, 1e1, 1e2, 1e3], \"gamma\": np.logspace(-2, 2, 5)}\n",
    "param_grid_SVM={'C': np.linspace(1.13,1.2,10), 'gamma': [0.002]} #specific for Project 2\n",
    "\n",
    "#C-Support Vector Classification.\n",
    "grid_search = skgs.GridSearchCV(svm.SVC(kernel='rbf'), scoring=neg_scorefun, param_grid=param_grid_SVM, cv=i)\n",
    "\n",
    "#Epsilon-Support Vector Regression.\n",
    "#grid_search = skgs.GridSearchCV(svm.SVR(kernel='rbf'), scoring=neg_scorefun, param_grid=param_grid_SVM, cv=i)\n",
    "\n",
    "#Lasso\n",
    "#grid_search=skgs.GridSearchCV(sklin.Lasso(), param_grid, scoring=neg_scorefun, cv=i)\n",
    "\n",
    "#LassoCV\n",
    "#grid_search=sklin.LassoCV(alphas=np.linspace(2^-3, 2^3, 20), cv=i)\n",
    "\n",
    "print(X.shape,Y.shape)\n",
    "grid_search.fit(X,Y)\n",
    "best=grid_search.best_estimator_\n",
    "\n",
    "print ('\\n',best)\n",
    "print('\\ni =',i)\n",
    "print('Best Score: ',-grid_search.best_score_)\n"
   ]
  },
  {
   "cell_type": "code",
   "execution_count": 106,
   "metadata": {
    "collapsed": false
   },
   "outputs": [
    {
     "name": "stdout",
     "output_type": "stream",
     "text": [
      "[2 1 1 ..., 0 1 1]\n"
     ]
    }
   ],
   "source": [
    "#here: type is int\n",
    "Ypred = np.int_(best.predict(Xtest))\n",
    "print(Ypred)"
   ]
  },
  {
   "cell_type": "code",
   "execution_count": 107,
   "metadata": {
    "collapsed": false,
    "scrolled": true
   },
   "outputs": [
    {
     "name": "stdout",
     "output_type": "stream",
     "text": [
      "(3000, 2)\n"
     ]
    }
   ],
   "source": [
    "#import our sample file (here: input type is int)\n",
    "my_sample_data = np.genfromtxt('sample.csv', delimiter=',',dtype=int)[1:,:] #withouth first line\n",
    "Ypred=np.atleast_2d(Ypred).T\n",
    "my_sample_data[:,1:]=Ypred\n",
    "#print(my_sample_data)\n",
    "print(my_sample_data.shape)"
   ]
  },
  {
   "cell_type": "code",
   "execution_count": 108,
   "metadata": {
    "collapsed": false
   },
   "outputs": [],
   "source": [
    "#Add column names and export the file\n",
    "header=['Id','y']\n",
    "sample_File = pd.DataFrame(my_sample_data, columns=header)\n",
    "sample_File.to_csv('submission.csv', index=False, header=True, sep=',')"
   ]
  },
  {
   "cell_type": "code",
   "execution_count": 109,
   "metadata": {
    "collapsed": false
   },
   "outputs": [
    {
     "name": "stdout",
     "output_type": "stream",
     "text": [
      "        Id  y\n",
      "0     1000  2\n",
      "1     1001  1\n",
      "2     1002  1\n",
      "3     1003  0\n",
      "4     1004  2\n",
      "5     1005  1\n",
      "6     1006  2\n",
      "7     1007  1\n",
      "8     1008  1\n",
      "9     1009  1\n",
      "10    1010  0\n",
      "11    1011  2\n",
      "12    1012  0\n",
      "13    1013  2\n",
      "14    1014  0\n",
      "15    1015  1\n",
      "16    1016  1\n",
      "17    1017  1\n",
      "18    1018  2\n",
      "19    1019  1\n",
      "20    1020  0\n",
      "21    1021  2\n",
      "22    1022  1\n",
      "23    1023  1\n",
      "24    1024  2\n",
      "25    1025  0\n",
      "26    1026  2\n",
      "27    1027  2\n",
      "28    1028  2\n",
      "29    1029  0\n",
      "...    ... ..\n",
      "2970  3970  2\n",
      "2971  3971  0\n",
      "2972  3972  2\n",
      "2973  3973  2\n",
      "2974  3974  2\n",
      "2975  3975  0\n",
      "2976  3976  0\n",
      "2977  3977  0\n",
      "2978  3978  2\n",
      "2979  3979  1\n",
      "2980  3980  2\n",
      "2981  3981  1\n",
      "2982  3982  0\n",
      "2983  3983  1\n",
      "2984  3984  0\n",
      "2985  3985  1\n",
      "2986  3986  0\n",
      "2987  3987  0\n",
      "2988  3988  0\n",
      "2989  3989  2\n",
      "2990  3990  1\n",
      "2991  3991  0\n",
      "2992  3992  1\n",
      "2993  3993  0\n",
      "2994  3994  0\n",
      "2995  3995  1\n",
      "2996  3996  1\n",
      "2997  3997  0\n",
      "2998  3998  1\n",
      "2999  3999  1\n",
      "\n",
      "[3000 rows x 2 columns]\n"
     ]
    }
   ],
   "source": [
    "print(sample_File)"
   ]
  },
  {
   "cell_type": "code",
   "execution_count": null,
   "metadata": {
    "collapsed": true
   },
   "outputs": [],
   "source": []
  }
 ],
 "metadata": {
  "kernelspec": {
   "display_name": "Python 3",
   "language": "python",
   "name": "python3"
  },
  "language_info": {
   "codemirror_mode": {
    "name": "ipython",
    "version": 3
   },
   "file_extension": ".py",
   "mimetype": "text/x-python",
   "name": "python",
   "nbconvert_exporter": "python",
   "pygments_lexer": "ipython3",
   "version": "3.5.1"
  }
 },
 "nbformat": 4,
 "nbformat_minor": 0
}
